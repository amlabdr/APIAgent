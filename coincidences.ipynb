{
 "cells": [
  {
   "cell_type": "code",
   "execution_count": 1,
   "metadata": {},
   "outputs": [],
   "source": [
    "from measurement_plane.measurement_plane_client.MP_client import MeasurementPlaneClient\n",
    "def display_capabilities_table(mpClient, max_width=75):\n",
    "    \"\"\"\n",
    "    Retrieves and displays capabilities in a table format, wrapping long fields line-by-line.\n",
    "    \n",
    "    Parameters:\n",
    "    - mpClient: Client instance to retrieve capabilities.\n",
    "    - capability_type: Type of capability to filter by (default is \"measure\").\n",
    "    - max_width: Maximum width per line for text fields to wrap.\n",
    "    \"\"\"\n",
    "    capabilities = mpClient.get_capabilities()\n",
    "\n",
    "    if capabilities:\n",
    "        # Print table headers\n",
    "        print(f\"{'ID':<5} {'Endpoint':<20} {'Label':<40} {'Parameters Schema':<80} {'Result Schema':<80}\")\n",
    "        print(\"-\" * 210)\n",
    "\n",
    "        # Helper function to wrap text\n",
    "        def wrap_text(text, width):\n",
    "            return [text[i:i + width] for i in range(0, len(text), width)]\n",
    "        \n",
    "        # Print each capability row\n",
    "        for c_id, cap in capabilities.items():\n",
    "            # Get values and wrap long text fields\n",
    "            endpoint_lines = wrap_text(str(cap.get('endpoint', 'N/A')), max_width)\n",
    "            label_lines = wrap_text(str(cap.get('label', 'N/A')), max_width)\n",
    "            parameters_schema_lines = wrap_text(str(cap.get('parameters_schema', 'N/A')), max_width)\n",
    "            results_schema_lines = wrap_text(str(cap.get('resultSchema', 'N/A')), max_width)\n",
    "            \n",
    "            # Find maximum number of lines among the fields to align the row height\n",
    "            max_lines = max(len(endpoint_lines), len(label_lines), len(parameters_schema_lines), len(results_schema_lines))\n",
    "            \n",
    "            # Print each line of the wrapped text fields\n",
    "            for i in range(max_lines):\n",
    "                c_id_display = str(c_id) if i == 0 else \"\"  # Display ID only in the first line\n",
    "                endpoint_display = endpoint_lines[i] if i < len(endpoint_lines) else \"\"\n",
    "                label_display = label_lines[i] if i < len(label_lines) else \"\"\n",
    "                parameters_display = parameters_schema_lines[i] if i < len(parameters_schema_lines) else \"\"\n",
    "                results_display = results_schema_lines[i] if i < len(results_schema_lines) else \"\"\n",
    "                \n",
    "                # Print each row with formatted spacing\n",
    "                print(f\"{c_id_display:<5} {endpoint_display:<20} {label_display:<40} {parameters_display:<80} {results_display:<80}\")\n",
    "            \n",
    "            # Add a separator line after each entry for readability\n",
    "            print(\"-\" * 210)\n",
    "    else:\n",
    "        print(\"No available capabilities\")\n",
    "    return capabilities\n",
    "\n",
    "def on_result_callback(result):\n",
    "    try:\n",
    "        print(\"wr_time is : \", result[0][\"wr_time\"])\n",
    "        print(\"histo_vals is : \", result[0][\"histo_vals\"])\n",
    "        print(\"bin_edges is : \", result[0][\"bin_edges\"])\n",
    "        print(\"peak is : \", result[0][\"peak\"])\n",
    "    except Exception as e:\n",
    "        print(f\"Error {e}\")\n",
    "\n",
    "BROKER_URL = \"http://localhost:5672/\"\n",
    "\n",
    "mpClient = MeasurementPlaneClient(BROKER_URL)\n",
    "    "
   ]
  },
  {
   "cell_type": "code",
   "execution_count": 3,
   "metadata": {},
   "outputs": [
    {
     "name": "stdout",
     "output_type": "stream",
     "text": [
      "ID    Endpoint             Label                                    Parameters Schema                                                                Result Schema                                                                   \n",
      "------------------------------------------------------------------------------------------------------------------------------------------------------------------------------------------------------------------\n",
      "323e2d44872dacc9f10c7fd18f11e775b0f60ca875e8f45dd3f46e4e25f0ffce /coincidences_analyzer Coincidence Analysis Capability          {'type': 'object', 'properties': {'channels': {'type': 'array', 'items': {'      {'type': 'object', 'properties': {'histo_vals': {'type': 'array', 'items':      \n",
      "                                                                    type': 'object', 'properties': {'channel': {'type': 'string', 'description'      {'type': 'number'}, 'description': 'Histogram values'}, 'bin_edges': {'type     \n",
      "                                                                    : 'Channel identifier'}, 'endpoint': {'type': 'string', 'description': 'End      ': 'array', 'items': {'type': 'number'}, 'description': 'Edges of the histo     \n",
      "                                                                    point of the channel'}}, 'required': ['channel', 'endpoint']}, 'minItems':       gram bins'}, 'peak': {'type': 'number', 'description': 'Peak value calculat     \n",
      "                                                                    2, 'maxItems': 2, 'description': 'An array of two objects, each defining a       ed from the analysis'}}}                                                        \n",
      "                                                                    channel and its endpoint'}, 'peak0': {'type': 'number', 'description': 'Ini                                                                                      \n",
      "                                                                    tial offset in picoseconds applied to the data'}, 'range_ns': {'type': 'num                                                                                      \n",
      "                                                                    ber', 'description': 'Range for the analysis in nanoseconds'}, 'bins': {'ty                                                                                      \n",
      "                                                                    pe': 'integer', 'description': 'Number of bins for the histogram'}}, 'requi                                                                                      \n",
      "                                                                    red': ['channels', 'peak0', 'range_ns', 'bins']}                                                                                                                 \n",
      "------------------------------------------------------------------------------------------------------------------------------------------------------------------------------------------------------------------\n",
      "9c56509c87191d5cb5bd19f856be4860aeb7ab8bc3de3df01838a0df41e057ff /tt/Alice            time tags measurement capability         {'type': 'object', 'properties': {'channels': {'type': 'string', 'descripti      {'type': 'object', 'patternProperties': {'^[0-9]+$': {'type': 'object', 'pr     \n",
      "                                                                    on': \"String of channel numbers separated by '|' to measure timetags from\"}      operties': {'WR_time': {'type': 'array', 'items': {'type': 'string'}}}, 're     \n",
      "                                                                    }}                                                                               quired': ['WR_time']}}}                                                         \n",
      "------------------------------------------------------------------------------------------------------------------------------------------------------------------------------------------------------------------\n",
      "b08a66efcd16a76b311496dea8deb8f15324e23e5fa17b5676634ccc761e033b /tt/Alice            count rate measurement capability        {'type': 'object', 'properties': {'channels': {'type': 'string', 'descripti      {'type': 'object', 'properties': {'type': 'object', 'patternProperties': {'     \n",
      "                                                                    on': \"String of channel numbers separated by '|' to measure count rates fro      ^[0-9]+$': {'type': 'number', 'description': 'The calculated count rate for     \n",
      "                                                                    m\"}}}                                                                             the channel'}}}}                                                               \n",
      "------------------------------------------------------------------------------------------------------------------------------------------------------------------------------------------------------------------\n",
      "072cade843aa927307681087ffd4246447bf0030cca06e54be44710e0d23e25c /tt/Bob              time tags measurement capability         {'type': 'object', 'properties': {'channels': {'type': 'string', 'descripti      {'type': 'object', 'patternProperties': {'^[0-9]+$': {'type': 'object', 'pr     \n",
      "                                                                    on': \"String of channel numbers separated by '|' to measure timetags from\"}      operties': {'WR_time': {'type': 'array', 'items': {'type': 'string'}}}, 're     \n",
      "                                                                    }}                                                                               quired': ['WR_time']}}}                                                         \n",
      "------------------------------------------------------------------------------------------------------------------------------------------------------------------------------------------------------------------\n",
      "0c59caf032e82b1adbc3fd3ee14751d23ccec746b5f7db329c34f7e8d3160fde /tt/Bob              count rate measurement capability        {'type': 'object', 'properties': {'channels': {'type': 'string', 'descripti      {'type': 'object', 'properties': {'type': 'object', 'patternProperties': {'     \n",
      "                                                                    on': \"String of channel numbers separated by '|' to measure count rates fro      ^[0-9]+$': {'type': 'number', 'description': 'The calculated count rate for     \n",
      "                                                                    m\"}}}                                                                             the channel'}}}}                                                               \n",
      "------------------------------------------------------------------------------------------------------------------------------------------------------------------------------------------------------------------\n"
     ]
    }
   ],
   "source": [
    "# Example usage:\n",
    "capabilities = display_capabilities_table(mpClient)\n",
    "# Step 2: Chose the desired capability by it's id\n",
    "capability_id = \"323e2d44872dacc9f10c7fd18f11e775b0f60ca875e8f45dd3f46e4e25f0ffce\"\n",
    "capability = capabilities[capability_id]"
   ]
  },
  {
   "cell_type": "code",
   "execution_count": 54,
   "metadata": {},
   "outputs": [
    {
     "name": "stdout",
     "output_type": "stream",
     "text": [
      "Created Measurement: {'label': 'Coincidence Analysis Capability', 'endpoint': '/coincidences_analyzer', 'capabilityName': 'coincidence_analysis_capability', 'parameters_schema': {'type': 'object', 'properties': {'channels': {'type': 'array', 'items': {'type': 'object', 'properties': {'channel': {'type': 'string', 'description': 'Channel identifier'}, 'endpoint': {'type': 'string', 'description': 'Endpoint of the channel'}}, 'required': ['channel', 'endpoint']}, 'minItems': 2, 'maxItems': 2, 'description': 'An array of two objects, each defining a channel and its endpoint'}, 'peak0': {'type': 'number', 'description': 'Initial offset in picoseconds applied to the data'}, 'range_ns': {'type': 'number', 'description': 'Range for the analysis in nanoseconds'}, 'bins': {'type': 'integer', 'description': 'Number of bins for the histogram'}}, 'required': ['channels', 'peak0', 'range_ns', 'bins']}, 'resultSchema': {'type': 'object', 'properties': {'histo_vals': {'type': 'array', 'items': {'type': 'number'}, 'description': 'Histogram values'}, 'bin_edges': {'type': 'array', 'items': {'type': 'number'}, 'description': 'Edges of the histogram bins'}, 'peak': {'type': 'number', 'description': 'Peak value calculated from the analysis'}}}, 'timestamp': '2024-11-28 14:05:27.36', 'nonce': 'coin12345', 'metadata': None, 'specification': 'measure-coincidences'}\n",
      "Configured Measurement Specification: {'label': 'Coincidence Analysis Capability', 'endpoint': '/coincidences_analyzer', 'capabilityName': 'coincidence_analysis_capability', 'parameters_schema': {'type': 'object', 'properties': {'channels': {'type': 'array', 'items': {'type': 'object', 'properties': {'channel': {'type': 'string', 'description': 'Channel identifier'}, 'endpoint': {'type': 'string', 'description': 'Endpoint of the channel'}}, 'required': ['channel', 'endpoint']}, 'minItems': 2, 'maxItems': 2, 'description': 'An array of two objects, each defining a channel and its endpoint'}, 'peak0': {'type': 'number', 'description': 'Initial offset in picoseconds applied to the data'}, 'range_ns': {'type': 'number', 'description': 'Range for the analysis in nanoseconds'}, 'bins': {'type': 'integer', 'description': 'Number of bins for the histogram'}}, 'required': ['channels', 'peak0', 'range_ns', 'bins']}, 'resultSchema': {'type': 'object', 'properties': {'histo_vals': {'type': 'array', 'items': {'type': 'number'}, 'description': 'Histogram values'}, 'bin_edges': {'type': 'array', 'items': {'type': 'number'}, 'description': 'Edges of the histogram bins'}, 'peak': {'type': 'number', 'description': 'Peak value calculated from the analysis'}}}, 'timestamp': '2024-11-28 22:13:23.69', 'nonce': 'coin12345', 'metadata': None, 'specification': 'measure-coincidences', 'parameters': {'channels': [{'channel': '3', 'endpoint': '/tt/Bob'}, {'channel': '2', 'endpoint': '/tt/Alice'}], 'peak0': 0, 'bins': 100, 'range_ns': 10}, 'schedule': 'now||stream'}\n",
      "wr_time is :  1488648.0\n",
      "histo_vals is :  [1, 1, 4, 4, 3, 13, 18, 17, 36, 31, 57, 117, 125, 189, 299, 347, 481, 718, 726, 973, 1527, 1485, 1774, 2646, 2533, 2995, 4500, 4360, 5037, 7498, 6995, 7994, 11724, 10921, 12364, 17164, 15619, 17148, 24009, 20927, 22867, 31023, 26067, 27826, 36864, 31540, 33155, 42734, 35073, 42252, 36233, 34191, 41941, 32599, 31102, 37225, 27896, 26277, 29776, 22007, 20374, 22786, 16378, 14721, 16307, 11559, 9922, 10679, 7420, 6346, 6663, 4523, 3745, 3810, 2520, 2072, 2090, 1288, 1009, 969, 637, 496, 458, 317, 228, 205, 132, 87, 61, 33, 48, 30, 10, 9, 14, 6, 1, 4, 1, 1]\n",
      "bin_edges is :  [-2206.8681259155273, -2202.5283850860596, -2198.188644256592, -2193.8489034271242, -2189.509162597656, -2185.1694217681884, -2180.8296809387207, -2176.489940109253, -2172.1501992797853, -2167.8104584503176, -2163.4707176208494, -2159.1309767913817, -2154.791235961914, -2150.4514951324463, -2146.1117543029786, -2141.772013473511, -2137.4322726440428, -2133.092531814575, -2128.7527909851074, -2124.4130501556397, -2120.073309326172, -2115.7335684967043, -2111.393827667236, -2107.0540868377684, -2102.7143460083007, -2098.374605178833, -2094.0348643493653, -2089.6951235198976, -2085.35538269043, -2081.0156418609618, -2076.675901031494, -2072.3361602020263, -2067.9964193725586, -2063.656678543091, -2059.3169377136232, -2054.977196884155, -2050.6374560546874, -2046.2977152252197, -2041.957974395752, -2037.6182335662843, -2033.2784927368164, -2028.9387519073487, -2024.5990110778807, -2020.259270248413, -2015.9195294189453, -2011.5797885894776, -2007.2400477600097, -2002.900306930542, -1998.5605661010743, -1994.2208252716064, -1989.8810844421387, -1985.541343612671, -1981.201602783203, -1976.8618619537353, -1972.5221211242676, -1968.1823802947997, -1963.842639465332, -1959.5028986358643, -1955.1631578063964, -1950.8234169769287, -1946.483676147461, -1942.143935317993, -1937.8041944885254, -1933.4644536590577, -1929.12471282959, -1924.784972000122, -1920.4452311706543, -1916.1054903411864, -1911.7657495117187, -1907.426008682251, -1903.0862678527833, -1898.7465270233154, -1894.4067861938477, -1890.0670453643797, -1885.727304534912, -1881.3875637054443, -1877.0478228759766, -1872.7080820465087, -1868.368341217041, -1864.0286003875733, -1859.6888595581054, -1855.3491187286377, -1851.00937789917, -1846.6696370697023, -1842.3298962402343, -1837.9901554107666, -1833.6504145812987, -1829.310673751831, -1824.9709329223633, -1820.6311920928956, -1816.2914512634277, -1811.95171043396, -1807.611969604492, -1803.2722287750244, -1798.9324879455567, -1794.592747116089, -1790.253006286621, -1785.9132654571533, -1781.5735246276854, -1777.2337837982177, -1772.89404296875]\n",
      "peak is :  -2002.900306930542\n"
     ]
    },
    {
     "name": "stdout",
     "output_type": "stream",
     "text": [
      "wr_time is :  1488652.0\n",
      "histo_vals is :  [1, 0, 0, 1, 0, 1, 0, 1, 2, 2, 4, 9, 14, 15, 29, 42, 79, 98, 175, 218, 269, 460, 598, 870, 849, 1313, 1645, 1635, 2494, 3124, 3740, 3683, 5417, 6582, 6323, 9217, 11042, 10308, 14841, 16915, 19043, 17140, 23688, 26409, 23325, 31237, 33578, 35838, 30696, 40781, 42178, 34544, 43557, 43649, 43046, 33152, 40575, 38874, 29459, 34343, 31600, 28487, 20642, 23295, 20772, 14690, 16086, 13824, 9649, 10371, 8862, 7389, 4990, 4988, 3959, 2484, 2546, 2101, 1666, 1005, 994, 697, 406, 394, 269, 239, 135, 114, 58, 42, 47, 28, 18, 3, 5, 1, 1, 1, 0, 1]\n",
      "bin_edges is :  [-2238.8662109375, -2234.1564923095702, -2229.4467736816405, -2224.7370550537107, -2220.0273364257814, -2215.3176177978517, -2210.607899169922, -2205.898180541992, -2201.1884619140624, -2196.4787432861326, -2191.7690246582033, -2187.0593060302735, -2182.349587402344, -2177.639868774414, -2172.9301501464843, -2168.2204315185545, -2163.510712890625, -2158.8009942626954, -2154.0912756347657, -2149.381557006836, -2144.671838378906, -2139.9621197509764, -2135.252401123047, -2130.5426824951173, -2125.8329638671876, -2121.123245239258, -2116.413526611328, -2111.7038079833983, -2106.9940893554685, -2102.284370727539, -2097.5746520996095, -2092.8649334716797, -2088.15521484375, -2083.44549621582, -2078.7357775878904, -2074.026058959961, -2069.3163403320314, -2064.6066217041016, -2059.896903076172, -2055.187184448242, -2050.4774658203123, -2045.7677471923828, -2041.0580285644533, -2036.3483099365235, -2031.6385913085937, -2026.928872680664, -2022.2191540527344, -2017.5094354248047, -2012.799716796875, -2008.0899981689454, -2003.3802795410156, -1998.6705609130859, -1993.9608422851563, -1989.2511236572266, -1984.5414050292968, -1979.8316864013673, -1975.1219677734375, -1970.4122491455078, -1965.702530517578, -1960.9928118896485, -1956.2830932617187, -1951.5733746337892, -1946.8636560058594, -1942.1539373779297, -1937.44421875, -1932.7345001220704, -1928.0247814941406, -1923.315062866211, -1918.6053442382813, -1913.8956256103515, -1909.1859069824218, -1904.4761883544923, -1899.7664697265625, -1895.056751098633, -1890.3470324707032, -1885.6373138427734, -1880.9275952148437, -1876.2178765869141, -1871.5081579589844, -1866.7984393310546, -1862.088720703125, -1857.3790020751953, -1852.6692834472656, -1847.9595648193358, -1843.2498461914063, -1838.5401275634765, -1833.830408935547, -1829.1206903076172, -1824.4109716796875, -1819.7012530517577, -1814.9915344238282, -1810.2818157958984, -1805.5720971679689, -1800.8623785400391, -1796.1526599121094, -1791.4429412841796, -1786.73322265625, -1782.0235040283203, -1777.3137854003908, -1772.604066772461, -1767.8943481445312]\n",
      "peak is :  -1989.2511236572266\n",
      "wr_time is :  1488653.0\n",
      "histo_vals is :  [1, 0, 0, 0, 1, 0, 2, 3, 6, 7, 14, 17, 14, 35, 49, 86, 101, 197, 211, 358, 345, 648, 650, 1069, 1060, 1187, 1986, 1900, 2933, 2878, 4121, 4074, 6081, 5727, 8445, 7978, 11476, 10792, 12066, 17229, 15458, 21704, 18858, 26306, 22748, 30953, 26638, 35281, 30179, 34204, 38688, 34031, 43453, 34645, 43566, 34213, 41412, 32228, 38681, 29059, 34037, 25356, 23336, 26591, 18925, 21752, 15360, 16827, 11590, 12772, 8801, 9816, 6557, 6836, 4518, 3860, 3968, 2589, 2593, 1616, 1641, 1003, 975, 577, 564, 369, 340, 209, 141, 136, 70, 69, 48, 42, 14, 15, 13, 6, 2, 2]\n",
      "bin_edges is :  [-2227.8668823242188, -2223.407148742676, -2218.947415161133, -2214.4876815795897, -2210.027947998047, -2205.568214416504, -2201.108480834961, -2196.648747253418, -2192.189013671875, -2187.729280090332, -2183.269546508789, -2178.809812927246, -2174.3500793457033, -2169.89034576416, -2165.430612182617, -2160.970878601074, -2156.5111450195313, -2152.0514114379885, -2147.591677856445, -2143.1319442749023, -2138.6722106933594, -2134.2124771118165, -2129.7527435302736, -2125.2930099487303, -2120.8332763671874, -2116.3735427856445, -2111.9138092041017, -2107.454075622559, -2102.9943420410154, -2098.5346084594726, -2094.0748748779297, -2089.615141296387, -2085.155407714844, -2080.6956741333006, -2076.2359405517577, -2071.776206970215, -2067.316473388672, -2062.856739807129, -2058.3970062255858, -2053.937272644043, -2049.4775390625, -2045.0178054809571, -2040.558071899414, -2036.0983383178711, -2031.638604736328, -2027.1788711547852, -2022.7191375732423, -2018.2594039916992, -2013.7996704101563, -2009.3399368286132, -2004.8802032470703, -2000.4204696655274, -1995.9607360839843, -1991.5010025024415, -1987.0412689208983, -1982.5815353393555, -1978.1218017578126, -1973.6620681762695, -1969.2023345947266, -1964.7426010131835, -1960.2828674316406, -1955.8231338500977, -1951.3634002685546, -1946.9036666870118, -1942.4439331054687, -1937.9841995239258, -1933.524465942383, -1929.0647323608398, -1924.604998779297, -1920.1452651977538, -1915.685531616211, -1911.225798034668, -1906.766064453125, -1902.306330871582, -1897.846597290039, -1893.386863708496, -1888.9271301269532, -1884.46739654541, -1880.0076629638672, -1875.5479293823241, -1871.0881958007812, -1866.6284622192384, -1862.1687286376953, -1857.7089950561524, -1853.2492614746093, -1848.7895278930664, -1844.3297943115235, -1839.8700607299804, -1835.4103271484375, -1830.9505935668944, -1826.4908599853516, -1822.0311264038087, -1817.5713928222656, -1813.1116592407227, -1808.6519256591796, -1804.1921920776367, -1799.7324584960938, -1795.2727249145507, -1790.8129913330079, -1786.3532577514648, -1781.8935241699219]\n",
      "peak is :  -1987.0412689208983\n",
      "wr_time is :  1488654.0\n",
      "histo_vals is :  [1, 0, 0, 0, 0, 0, 1, 1, 2, 2, 6, 10, 12, 16, 25, 35, 53, 103, 138, 235, 317, 356, 597, 589, 953, 1237, 1243, 1821, 1878, 2806, 3575, 3345, 5164, 6093, 5782, 8597, 7993, 11635, 13886, 12461, 17865, 20180, 18081, 24795, 21712, 29580, 32076, 27364, 36537, 33535, 38676, 42499, 34692, 43342, 43343, 34663, 41502, 32007, 38605, 36292, 27105, 31393, 28835, 20871, 23407, 16840, 18798, 16208, 11418, 12426, 10342, 7193, 7781, 5216, 5296, 4181, 2749, 2794, 1786, 1789, 1403, 878, 876, 559, 353, 334, 230, 197, 148, 62, 69, 48, 31, 25, 15, 10, 4, 1, 1, 1]\n",
      "bin_edges is :  [-2238.8662109375, -2234.246486816406, -2229.6267626953127, -2225.0070385742188, -2220.387314453125, -2215.7675903320314, -2211.1478662109375, -2206.5281420898436, -2201.90841796875, -2197.2886938476563, -2192.6689697265624, -2188.049245605469, -2183.429521484375, -2178.809797363281, -2174.1900732421873, -2169.570349121094, -2164.950625, -2160.330900878906, -2155.7111767578126, -2151.0914526367187, -2146.471728515625, -2141.8520043945314, -2137.2322802734375, -2132.6125561523436, -2127.99283203125, -2123.3731079101562, -2118.7533837890624, -2114.133659667969, -2109.513935546875, -2104.894211425781, -2100.2744873046877, -2095.654763183594, -2091.0350390625, -2086.4153149414065, -2081.7955908203126, -2077.1758666992187, -2072.556142578125, -2067.9364184570313, -2063.3166943359374, -2058.6969702148435, -2054.07724609375, -2049.457521972656, -2044.8377978515625, -2040.2180737304689, -2035.598349609375, -2030.9786254882813, -2026.3589013671876, -2021.7391772460937, -2017.119453125, -2012.4997290039062, -2007.8800048828125, -2003.2602807617188, -1998.640556640625, -1994.0208325195313, -1989.4011083984376, -1984.7813842773437, -1980.16166015625, -1975.5419360351561, -1970.9222119140625, -1966.3024877929688, -1961.682763671875, -1957.0630395507812, -1952.4433154296876, -1947.8235913085937, -1943.2038671875, -1938.5841430664063, -1933.9644189453124, -1929.3446948242188, -1924.724970703125, -1920.1052465820312, -1915.4855224609375, -1910.8657983398439, -1906.24607421875, -1901.6263500976563, -1897.0066259765626, -1892.3869018554688, -1887.767177734375, -1883.1474536132812, -1878.5277294921875, -1873.9080053710936, -1869.28828125, -1864.6685571289063, -1860.0488330078124, -1855.4291088867187, -1850.809384765625, -1846.1896606445312, -1841.5699365234375, -1836.9502124023438, -1832.33048828125, -1827.7107641601563, -1823.0910400390626, -1818.4713159179687, -1813.851591796875, -1809.2318676757814, -1804.6121435546875, -1799.9924194335938, -1795.3726953125001, -1790.7529711914062, -1786.1332470703126, -1781.513522949219, -1776.893798828125]\n",
      "peak is :  -1989.4011083984376\n"
     ]
    }
   ],
   "source": [
    "# Step 3: Instantiate a specification of a measurement from the capability\n",
    "measurement = mpClient.create_measurement(capability)\n",
    "print(f\"Created Measurement: {measurement.specification_message}\")\n",
    "\n",
    "# Step 4: Configure the measurement with parameters\n",
    "channels =  [{\"channel\":'3',\"endpoint\":\"/tt/Bob\"}, {\"channel\":'2',\"endpoint\":\"/tt/Alice\"}]\n",
    "peak0 = 0\n",
    "range_ns = 10\n",
    "bins = 100\n",
    "schedule = \"now||stream\"\n",
    "parameters = {\n",
    "    \"channels\": channels,\n",
    "    \"peak0\":peak0,\n",
    "    \"bins\":bins,\n",
    "    \"range_ns\":range_ns\n",
    "    \n",
    "}\n",
    "measurement.configure(\n",
    "    schedule=schedule,\n",
    "    parameters=parameters,\n",
    "    result_callback=on_result_callback,  # Callback function for new results\n",
    ")\n",
    "print(f\"Configured Measurement Specification: {measurement.specification_message}\")\n",
    "\n",
    "# Step 5: Send the Measurement\n",
    "mpClient.send_measurement(measurement)"
   ]
  },
  {
   "cell_type": "code",
   "execution_count": 58,
   "metadata": {},
   "outputs": [
    {
     "name": "stdout",
     "output_type": "stream",
     "text": [
      "Measurement Interrupted\n"
     ]
    }
   ],
   "source": [
    "# Step 6: Interrupt the measurement\n",
    "mpClient.interrupt_measurement(measurement)\n",
    "print(f\"Measurement Interrupted\")"
   ]
  },
  {
   "cell_type": "code",
   "execution_count": 111,
   "metadata": {},
   "outputs": [
    {
     "ename": "NameError",
     "evalue": "name 'data_store' is not defined",
     "output_type": "error",
     "traceback": [
      "\u001b[1;31m---------------------------------------------------------------------------\u001b[0m",
      "\u001b[1;31mNameError\u001b[0m                                 Traceback (most recent call last)",
      "Cell \u001b[1;32mIn[111], line 1\u001b[0m\n\u001b[1;32m----> 1\u001b[0m \u001b[43mdata_store\u001b[49m\n\u001b[0;32m      2\u001b[0m \u001b[38;5;28;01mimport\u001b[39;00m \u001b[38;5;21;01mpickle\u001b[39;00m\n\u001b[0;32m      3\u001b[0m \u001b[38;5;28;01mwith\u001b[39;00m \u001b[38;5;28mopen\u001b[39m(\u001b[38;5;124m'\u001b[39m\u001b[38;5;124mdata_store.pkl\u001b[39m\u001b[38;5;124m'\u001b[39m, \u001b[38;5;124m'\u001b[39m\u001b[38;5;124mwb\u001b[39m\u001b[38;5;124m'\u001b[39m) \u001b[38;5;28;01mas\u001b[39;00m file:\n",
      "\u001b[1;31mNameError\u001b[0m: name 'data_store' is not defined"
     ]
    }
   ],
   "source": [
    "data_store\n",
    "import pickle\n",
    "with open('data_store.pkl', 'wb') as file:\n",
    "    pickle.dump(data_store, file)\n"
   ]
  },
  {
   "cell_type": "code",
   "execution_count": 5,
   "metadata": {},
   "outputs": [],
   "source": [
    "import pickle\n",
    "# Load the data\n",
    "with open('data_store.pkl', 'rb') as file:\n",
    "    retreived_data = pickle.load(file)"
   ]
  },
  {
   "cell_type": "code",
   "execution_count": 7,
   "metadata": {},
   "outputs": [
    {
     "data": {
      "text/plain": [
       "12"
      ]
     },
     "execution_count": 7,
     "metadata": {},
     "output_type": "execute_result"
    }
   ],
   "source": [
    "retreived_data\n",
    "len(retreived_data[2])"
   ]
  },
  {
   "cell_type": "code",
   "execution_count": 9,
   "metadata": {},
   "outputs": [
    {
     "data": {
      "text/plain": [
       "{613091.0: array([6.49066004e+03, 2.18756371e+04, 3.72657677e+04, ...,\n",
       "        1.53845846e+10, 1.53846000e+10, 1.53846153e+10]),\n",
       " 613092.0: array([9.98115624e+05, 1.99800014e+06, 2.99785766e+06, ...,\n",
       "        9.99997571e+11, 9.99998571e+11, 9.99999571e+11]),\n",
       " 613093.0: array([5.71421008e+05, 1.57141252e+06, 2.57142003e+06, ...,\n",
       "        9.99997142e+11, 9.99998142e+11, 9.99999141e+11]),\n",
       " 613094.0: array([1.40964614e+05, 1.14116711e+06, 2.14140061e+06, ...,\n",
       "        9.99997716e+11, 9.99998716e+11, 9.99999716e+11]),\n",
       " 613095.0: array([7.17106341e+05, 1.71700986e+06, 2.71715836e+06, ...,\n",
       "        9.99997290e+11, 9.99998290e+11, 9.99999290e+11]),\n",
       " 613096.0: array([2.90076744e+05, 1.29027924e+06, 2.29042575e+06, ...,\n",
       "        9.99997866e+11, 9.99998866e+11, 9.99999866e+11]),\n",
       " 613097.0: array([8.65768497e+05, 1.86573601e+06, 2.86598251e+06, ...,\n",
       "        9.99997438e+11, 9.99998438e+11, 9.99999438e+11]),\n",
       " 613098.0: array([4.37887951e+05, 1.43802246e+06, 2.43785998e+06, ...,\n",
       "        9.99997011e+11, 9.99998011e+11, 9.99999011e+11]),\n",
       " 613099.0: array([1.10653418e+04, 1.01105386e+06, 2.01112336e+06, ...,\n",
       "        9.99997590e+11, 9.99998590e+11, 9.99999590e+11]),\n",
       " 613100.0: array([5.89234948e+05, 1.58905147e+06, 2.58898399e+06, ...,\n",
       "        9.99997171e+11, 9.99998171e+11, 9.99999171e+11]),\n",
       " 613101.0: array([1.71233814e+05, 1.17123933e+06, 2.17097085e+06, ...,\n",
       "        9.99997739e+11, 9.99998739e+11, 9.99999739e+11]),\n",
       " 613102.0: array([7.39345019e+05, 1.73936553e+06, 2.73927005e+06, ...,\n",
       "        9.99997320e+11, 9.99998320e+11, 9.99999320e+11])}"
      ]
     },
     "execution_count": 9,
     "metadata": {},
     "output_type": "execute_result"
    }
   ],
   "source": [
    "data_store[2]\n"
   ]
  },
  {
   "cell_type": "code",
   "execution_count": 10,
   "metadata": {},
   "outputs": [
    {
     "data": {
      "image/png": "[encoded data removed]",
      "text/plain": [
       "<Figure size 640x480 with 1 Axes>"
      ]
     },
     "metadata": {},
     "output_type": "display_data"
    }
   ],
   "source": [
    "def plot_counts(data_store):\n",
    "    plt.figure()\n",
    "    plt.xlabel(\"Absolute Time (1PPS)\")\n",
    "    plt.ylabel(\"Count of Events\")\n",
    "    plt.title(\"Counts for Each Channel\")\n",
    "    plt.ylim(0, 3.1e6)\n",
    "    # Iterate through each channel and add a bar plot for its counts\n",
    "    for channel, time_data in data_store.items():\n",
    "        counts = []\n",
    "        abs_times = sorted(time_data.keys())\n",
    "        # Calculate counts for each absolute time\n",
    "        for abs_time in abs_times:\n",
    "            counts.append(len(time_data[abs_time]))\n",
    "        # Plot counts for the channel on the same figure with a label\n",
    "        plt.plot(abs_times, counts, marker='o', linestyle='-',label=f\"Channel {channel}\")\n",
    "    \n",
    "    # Show legend to differentiate channels\n",
    "    plt.legend()\n",
    "    plt.show()\n",
    "\n",
    "plot_counts(data_store)\n"
   ]
  },
  {
   "cell_type": "code",
   "execution_count": null,
   "metadata": {},
   "outputs": [],
   "source": []
  }
 ],
 "metadata": {
  "kernelspec": {
   "display_name": "measurement_plane",
   "language": "python",
   "name": "python3"
  },
  "language_info": {
   "codemirror_mode": {
    "name": "ipython",
    "version": 3
   },
   "file_extension": ".py",
   "mimetype": "text/x-python",
   "name": "python",
   "nbconvert_exporter": "python",
   "pygments_lexer": "ipython3",
   "version": "3.11.9"
  }
 },
 "nbformat": 4,
 "nbformat_minor": 2
}

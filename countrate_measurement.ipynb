{
 "cells": [
  {
   "cell_type": "code",
   "execution_count": 21,
   "metadata": {},
   "outputs": [],
   "source": [
    "import time\n",
    "from multiverse import MeasurementPlaneClient\n",
    "\n",
    "import plotly.graph_objs as go\n",
    "from plotly.subplots import make_subplots\n",
    "import plotly.io as pio\n",
    "import time\n",
    "import dash\n",
    "from dash import dcc, html\n",
    "from dash.dependencies import Input, Output\n",
    "import plotly.graph_objs as go\n",
    "import time\n",
    "from threading import Thread\n",
    "import random\n",
    "\n",
    "class DashPlotting:\n",
    "    def __init__(self, channels):\n",
    "        self.channels = channels\n",
    "        self.channel_data = {channel: [] for channel in channels}\n",
    "        self.timestamps = []\n",
    "        self.start_time = None\n",
    "        # Initialize Dash app\n",
    "        self.app = dash.Dash(__name__)\n",
    "\n",
    "        # Define the layout\n",
    "        self.app.layout = html.Div([\n",
    "            dcc.Graph(id='live-graph'),\n",
    "            dcc.Interval(\n",
    "                id='graph-update',\n",
    "                interval=1000,  # Update every second\n",
    "                n_intervals=0\n",
    "            )\n",
    "        ])\n",
    "\n",
    "        # Set up the callback to update the graph\n",
    "        @self.app.callback(\n",
    "            Output('live-graph', 'figure'),\n",
    "            [Input('graph-update', 'n_intervals')]\n",
    "        )\n",
    "        def update_graph_live(n):\n",
    "            fig = go.Figure()\n",
    "\n",
    "            # Limit to the last 100 data points\n",
    "            timestamps_to_plot = self.timestamps[-500:]\n",
    "\n",
    "            # Update the traces for each channel\n",
    "            for channel in self.channels:\n",
    "                channel_data_to_plot = self.channel_data[channel][-500:]  # Only last 100 points\n",
    "                fig.add_trace(go.Scatter(x=timestamps_to_plot, y=channel_data_to_plot, mode='lines', name=f'Channel {channel}'))\n",
    "\n",
    "            fig.update_layout(\n",
    "                title={\n",
    "                    \"text\": \"Count rates of timetaggers channels\",\n",
    "                    \"font\": {\"size\": 24}  # Set title font size\n",
    "                },\n",
    "                xaxis={\n",
    "                    \"title\": {\"text\": \"Time (seconds)\", \"font\": {\"size\": 18}},  # X-axis title font size\n",
    "                    \"tickfont\": {\"size\": 14}  # X-axis tick font size\n",
    "                },\n",
    "                yaxis={\n",
    "                    \"title\": {\"text\": \"Rate/s\", \"font\": {\"size\": 18}},  # Y-axis title font size\n",
    "                    \"tickfont\": {\"size\": 14}  # Y-axis tick font size\n",
    "                },\n",
    "                legend={\"font\": {\"size\": 16}}  # Legend font size\n",
    "            )\n",
    "\n",
    "            return fig\n",
    "        \n",
    "    def start_server(self):\n",
    "        # Start the Dash app server\n",
    "        self.app.run_server(debug=True, use_reloader=False, inline_callbacks=False)  # Turn off reloader to avoid double execution\n",
    "\n",
    "    def on_result_callback(self, result):\n",
    "        #print(f\"New Result Received: {result}\")\n",
    "        if isinstance(result, list) and result == ['EOF_results']:\n",
    "            print(\"End of results received.\")\n",
    "            return  # Stop processing further since this is an EOF marker\n",
    "        \n",
    "        if result:\n",
    "            result = result[0]  # Assuming result is a list of dicts\n",
    "            \n",
    "            # Initialize start time on first result\n",
    "            if self.start_time is None:\n",
    "                self.start_time = time.time()\n",
    "\n",
    "            # Append new rates for each channel\n",
    "            for channel in self.channels:\n",
    "                self.channel_data[channel].append(result.get(channel, random.uniform(1, 10)))  # Append random value for example\n",
    "            \n",
    "            \n",
    "            elapsed_time = time.time() - self.start_time\n",
    "            self.timestamps.append(elapsed_time)\n",
    "\n",
    "           \n",
    "def on_completion_callback(result):\n",
    "    print(result)\n",
    "    pass\n",
    "\n",
    "\n",
    "BROKER_URL = \"http://localhost:5672/\"\n",
    "\n",
    "mpClient = MeasurementPlaneClient(BROKER_URL)"
   ]
  },
  {
   "cell_type": "code",
   "execution_count": 24,
   "metadata": {},
   "outputs": [
    {
     "name": "stdout",
     "output_type": "stream",
     "text": [
      "0:time tags measurement capability\n",
      "1:count rate measurement capability\n"
     ]
    }
   ],
   "source": [
    "\n",
    "# Step 1: Get the capabilities published by agents\n",
    "capabilities = mpClient.get_capabilities(capability_type=\"measure\")\n",
    "#print(\"Available Capabilities:\", capabilities)\n",
    "for id, cap in capabilities.items():\n",
    "    print(f\"{id}:{cap['label']}\")\n"
   ]
  },
  {
   "cell_type": "code",
   "execution_count": 25,
   "metadata": {},
   "outputs": [
    {
     "data": {
      "text/html": [
       "\n",
       "        <iframe\n",
       "            width=\"100%\"\n",
       "            height=\"650\"\n",
       "            src=\"http://127.0.0.1:8050/\"\n",
       "            frameborder=\"0\"\n",
       "            allowfullscreen\n",
       "            \n",
       "        ></iframe>\n",
       "        "
      ],
      "text/plain": [
       "<IPython.lib.display.IFrame at 0x1a50c00f0d0>"
      ]
     },
     "metadata": {},
     "output_type": "display_data"
    }
   ],
   "source": [
    "capability_id = 1\n",
    "capability = capabilities[capability_id]\n",
    "channels =  '1|2|3'\n",
    "plotter = DashPlotting(channels.split('|'))\n",
    "plotter.start_server()"
   ]
  },
  {
   "cell_type": "code",
   "execution_count": 28,
   "metadata": {},
   "outputs": [
    {
     "name": "stdout",
     "output_type": "stream",
     "text": [
      "Created Measurement: {'label': 'count rate measurement capability', 'endpoint': '/multiverse/qnet/tt/Alice', 'capabilityName': 'count_rate_measurement_capability', 'parameters_schema': {'type': 'object', 'properties': {'channels': {'type': 'string', 'description': \"String of channel numbers separated by '|' to measure count rates from\"}}}, 'resultSchema': {'type': 'object', 'properties': {'type': 'object', 'patternProperties': {'^[0-9]+$': {'type': 'number', 'description': 'The calculated count rate for the channel'}}}}, 'timestamp': '2024-11-04 11:52:40.50', 'nonce': '12345', 'metadata': None, 'specification': 'measure'}\n",
      "Configured Measurement Specification: {'label': 'count rate measurement capability', 'endpoint': '/multiverse/qnet/tt/Alice', 'capabilityName': 'count_rate_measurement_capability', 'parameters_schema': {'type': 'object', 'properties': {'channels': {'type': 'string', 'description': \"String of channel numbers separated by '|' to measure count rates from\"}}}, 'resultSchema': {'type': 'object', 'properties': {'type': 'object', 'patternProperties': {'^[0-9]+$': {'type': 'number', 'description': 'The calculated count rate for the channel'}}}}, 'timestamp': '2024-11-04 12:02:55.05', 'nonce': '12345', 'metadata': None, 'specification': 'measure', 'parameters': {'channels': '1|2|3'}, 'schedule': 'now | 2024-11-21 22:01:00 |stream'}\n"
     ]
    }
   ],
   "source": [
    "# Step 3: Instantiate a specification of a measurement from the capability\n",
    "measurement = mpClient.create_measurement(capability)\n",
    "print(f\"Created Measurement: {measurement.specification_message}\")\n",
    "\n",
    "# Step 4: Configure the measurement with parameters\n",
    "#schedule = \"now | 2024-11-15 22:50:00 | stream \"  # Replace with your schedule: `now / period`, `start ... stop / period`, etc.\n",
    "schedule = \"now | 2024-11-21 22:01:00 |stream\"\n",
    "parameters = {\n",
    "    \"channels\": channels\n",
    "}\n",
    "measurement.configure(\n",
    "    schedule=schedule,\n",
    "    parameters=parameters,\n",
    "    stream_results=False,  # Stream results\n",
    "    redirect_to_storage=True,  # Redirect to storage\n",
    "    result_callback=plotter.on_result_callback,  # Callback function for new results\n",
    "    completion_callback=on_completion_callback  # Callback function for measurement completion\n",
    ")\n",
    "print(f\"Configured Measurement Specification: {measurement.specification_message}\")\n",
    "\n",
    "# Step 5: Send the Measurement\n",
    "mpClient.send_measurement(measurement)"
   ]
  },
  {
   "cell_type": "code",
   "execution_count": 29,
   "metadata": {},
   "outputs": [
    {
     "name": "stdout",
     "output_type": "stream",
     "text": [
      "Measurement Interrupted\n"
     ]
    }
   ],
   "source": [
    "# Step 6: Interrupt the measurement\n",
    "mpClient.interrupt_measurement(measurement)\n",
    "print(f\"Measurement Interrupted\")"
   ]
  }
 ],
 "metadata": {
  "kernelspec": {
   "display_name": "measurement_plane",
   "language": "python",
   "name": "python3"
  },
  "language_info": {
   "codemirror_mode": {
    "name": "ipython",
    "version": 3
   },
   "file_extension": ".py",
   "mimetype": "text/x-python",
   "name": "python",
   "nbconvert_exporter": "python",
   "pygments_lexer": "ipython3",
   "version": "3.11.9"
  }
 },
 "nbformat": 4,
 "nbformat_minor": 2
}

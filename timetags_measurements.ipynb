{
 "cells": [
  {
   "cell_type": "code",
   "execution_count": 1,
   "metadata": {},
   "outputs": [],
   "source": [
    "import time\n",
    "from utils.data_compression import decompress_data_blosc\n",
    "\n",
    "import time\n",
    "import sys\n",
    "\n",
    "data_store = {}\n",
    "import matplotlib.pyplot as plt\n",
    "import numpy as np\n",
    "\n",
    "\n",
    "def get_total_size(obj, seen=None):\n",
    "    \"\"\"Recursively calculates the size of objects in bytes, including nested objects.\"\"\"\n",
    "    size = sys.getsizeof(obj)\n",
    "    if seen is None:\n",
    "        seen = set()\n",
    "        \n",
    "    obj_id = id(obj)\n",
    "    if obj_id in seen:\n",
    "        return 0\n",
    "\n",
    "    # Mark this object as seen\n",
    "    seen.add(obj_id)\n",
    "\n",
    "    if isinstance(obj, dict):\n",
    "        size += sum([get_total_size(v, seen) for v in obj.values()])\n",
    "        size += sum([get_total_size(k, seen) for k in obj.keys()])\n",
    "    elif isinstance(obj, list) or isinstance(obj, tuple) or isinstance(obj, set):\n",
    "        size += sum([get_total_size(i, seen) for i in obj])\n",
    "    \n",
    "    return size\n",
    "\n",
    "def get_total_size_in_mb(obj):\n",
    "    \"\"\"Returns the total size of an object in megabytes.\"\"\"\n",
    "    size_in_bytes = get_total_size(obj)\n",
    "    size_in_mb = size_in_bytes / (1024 * 1024)  # Convert bytes to MB\n",
    "    return size_in_mb\n",
    "\n",
    "def display_capabilities_table(mpClient, max_width=75):\n",
    "    \"\"\"\n",
    "    Retrieves and displays capabilities in a table format, wrapping long fields line-by-line.\n",
    "    \n",
    "    Parameters:\n",
    "    - mpClient: Client instance to retrieve capabilities.\n",
    "    - capability_type: Type of capability to filter by (default is \"measure\").\n",
    "    - max_width: Maximum width per line for text fields to wrap.\n",
    "    \"\"\"\n",
    "    capabilities = mpClient.get_capabilities()\n",
    "\n",
    "    if capabilities:\n",
    "        # Print table headers\n",
    "        print(f\"{'ID':<5} {'Endpoint':<20} {'Label':<40} {'Parameters Schema':<80} {'Result Schema':<80}\")\n",
    "        print(\"-\" * 210)\n",
    "\n",
    "        # Helper function to wrap text\n",
    "        def wrap_text(text, width):\n",
    "            return [text[i:i + width] for i in range(0, len(text), width)]\n",
    "        \n",
    "        # Print each capability row\n",
    "        for c_id, cap in capabilities.items():\n",
    "            # Get values and wrap long text fields\n",
    "            endpoint_lines = wrap_text(str(cap.get('endpoint', 'N/A')), max_width)\n",
    "            label_lines = wrap_text(str(cap.get('label', 'N/A')), max_width)\n",
    "            parameters_schema_lines = wrap_text(str(cap.get('parameters_schema', 'N/A')), max_width)\n",
    "            results_schema_lines = wrap_text(str(cap.get('resultSchema', 'N/A')), max_width)\n",
    "            \n",
    "            # Find maximum number of lines among the fields to align the row height\n",
    "            max_lines = max(len(endpoint_lines), len(label_lines), len(parameters_schema_lines), len(results_schema_lines))\n",
    "            \n",
    "            # Print each line of the wrapped text fields\n",
    "            for i in range(max_lines):\n",
    "                c_id_display = str(c_id) if i == 0 else \"\"  # Display ID only in the first line\n",
    "                endpoint_display = endpoint_lines[i] if i < len(endpoint_lines) else \"\"\n",
    "                label_display = label_lines[i] if i < len(label_lines) else \"\"\n",
    "                parameters_display = parameters_schema_lines[i] if i < len(parameters_schema_lines) else \"\"\n",
    "                results_display = results_schema_lines[i] if i < len(results_schema_lines) else \"\"\n",
    "                \n",
    "                # Print each row with formatted spacing\n",
    "                print(f\"{c_id_display:<5} {endpoint_display:<20} {label_display:<40} {parameters_display:<80} {results_display:<80}\")\n",
    "            \n",
    "            # Add a separator line after each entry for readability\n",
    "            print(\"-\" * 210)\n",
    "    else:\n",
    "        print(\"No available capabilities\")\n",
    "    return capabilities\n",
    "\n",
    "\n",
    "\n",
    "def on_result_callback(result):\n",
    "    Dresult_size = 0\n",
    "    for ch in result[0]:\n",
    "        if ch not in data_store:\n",
    "            data_store[ch] = {}\n",
    "        print(\"received for channel: \",ch)\n",
    "        for wr_time in result[0][ch]:\n",
    "            data_store[ch][wr_time] = decompress_data_blosc(result[0][ch][wr_time])\n",
    "            print(\"WR_Time: \",wr_time)\n",
    "            print(\"timetags number: \", len(data_store[ch][wr_time]))\n",
    "            Dresult_size += get_total_size_in_mb(data_store[ch][wr_time])\n",
    "            print(\"data is:\" , data_store[ch][wr_time])\n",
    "    result_size =  get_total_size_in_mb(result[0])\n",
    "    print(f\"++++++++Total size of result: {result_size:.2f} MB\")\n",
    "    print(f\"++++++++Total size of dresult: {Dresult_size:.2f} MB\")\n",
    "    \n",
    "    pass\n"
   ]
  },
  {
   "cell_type": "code",
   "execution_count": 14,
   "metadata": {},
   "outputs": [],
   "source": [
    "from measurement_plane.measurement_plane_client.MP_client import MeasurementPlaneClient\n",
    "from utils.data_compression import decompress_data_blosc\n",
    "data_store = {}\n",
    "def on_result_callback(result):\n",
    "    #d_result = decompress_data_blosc(result[0])\n",
    "    #print(\"++++++++++++++data is:\" , d_result)\n",
    "    for ch in result[0]:\n",
    "        if ch not in data_store:\n",
    "            data_store[ch] = {}\n",
    "        print(\"received for channel: \",ch)\n",
    "        for wr_time in result[0][ch]:\n",
    "            data_store[ch][wr_time] = decompress_data_blosc(result[0][ch][wr_time])\n",
    "            print(\"WR_Time: \",wr_time)\n",
    "            print(\"timetags number: \", len(data_store[ch][wr_time]))\n",
    "            print(\"data is:\" , data_store[ch][wr_time])\n",
    "    pass\n",
    "\n",
    "BROKER_URL = \"http://localhost:5672/\"\n",
    "\n",
    "mpClient = MeasurementPlaneClient(BROKER_URL)"
   ]
  },
  {
   "cell_type": "code",
   "execution_count": 3,
   "metadata": {},
   "outputs": [
    {
     "name": "stdout",
     "output_type": "stream",
     "text": [
      "ID    Endpoint             Label                                    Parameters Schema                                                                Result Schema                                                                   \n",
      "------------------------------------------------------------------------------------------------------------------------------------------------------------------------------------------------------------------\n",
      "9c56509c87191d5cb5bd19f856be4860aeb7ab8bc3de3df01838a0df41e057ff /tt/Alice            time tags measurement capability         {'type': 'object', 'properties': {'channels': {'type': 'string', 'descripti      {'type': 'object', 'patternProperties': {'^[0-9]+$': {'type': 'object', 'pr     \n",
      "                                                                    on': \"String of channel numbers separated by '|' to measure timetags from\"}      operties': {'WR_time': {'type': 'array', 'items': {'type': 'string'}}}, 're     \n",
      "                                                                    }}                                                                               quired': ['WR_time']}}}                                                         \n",
      "------------------------------------------------------------------------------------------------------------------------------------------------------------------------------------------------------------------\n",
      "b08a66efcd16a76b311496dea8deb8f15324e23e5fa17b5676634ccc761e033b /tt/Alice            count rate measurement capability        {'type': 'object', 'properties': {'channels': {'type': 'string', 'descripti      {'type': 'object', 'properties': {'type': 'object', 'patternProperties': {'     \n",
      "                                                                    on': \"String of channel numbers separated by '|' to measure count rates fro      ^[0-9]+$': {'type': 'number', 'description': 'The calculated count rate for     \n",
      "                                                                    m\"}}}                                                                             the channel'}}}}                                                               \n",
      "------------------------------------------------------------------------------------------------------------------------------------------------------------------------------------------------------------------\n"
     ]
    }
   ],
   "source": [
    "# Example usage:\n",
    "capabilities = display_capabilities_table(mpClient)"
   ]
  },
  {
   "cell_type": "code",
   "execution_count": 4,
   "metadata": {},
   "outputs": [],
   "source": [
    "# Step 2: Chose the desired capability by it's id\n",
    "capability_id = \"9c56509c87191d5cb5bd19f856be4860aeb7ab8bc3de3df01838a0df41e057ff\"\n",
    "capability = capabilities[capability_id]"
   ]
  },
  {
   "cell_type": "code",
   "execution_count": 15,
   "metadata": {},
   "outputs": [
    {
     "name": "stdout",
     "output_type": "stream",
     "text": [
      "Created Measurement: {'label': 'time tags measurement capability', 'endpoint': '/tt/Alice', 'capabilityName': 'Time_tags_measurement_capability', 'parameters_schema': {'type': 'object', 'properties': {'channels': {'type': 'string', 'description': \"String of channel numbers separated by '|' to measure timetags from\"}}}, 'resultSchema': {'type': 'object', 'patternProperties': {'^[0-9]+$': {'type': 'object', 'properties': {'WR_time': {'type': 'array', 'items': {'type': 'string'}}}, 'required': ['WR_time']}}}, 'timestamp': '2024-12-14 23:18:55.41', 'nonce': '12345', 'metadata': None, 'specification': 'measure-time-tags'}\n",
      "Configured Measurement Specification: {'label': 'time tags measurement capability', 'endpoint': '/tt/Alice', 'capabilityName': 'Time_tags_measurement_capability', 'parameters_schema': {'type': 'object', 'properties': {'channels': {'type': 'string', 'description': \"String of channel numbers separated by '|' to measure timetags from\"}}}, 'resultSchema': {'type': 'object', 'patternProperties': {'^[0-9]+$': {'type': 'object', 'properties': {'WR_time': {'type': 'array', 'items': {'type': 'string'}}}, 'required': ['WR_time']}}}, 'timestamp': '2024-12-14 23:22:47.88', 'nonce': '12345', 'metadata': None, 'specification': 'measure-time-tags', 'parameters': {'channels': '2'}, 'schedule': 'now ||stream'}\n"
     ]
    },
    {
     "name": "stdout",
     "output_type": "stream",
     "text": [
      "received for channel:  2\n",
      "WR_Time:  1488638.0\n",
      "timetags number:  999987\n",
      "data is: [48111757670539 48111758670554 48111759670768 ... 49111814093300\n",
      " 49111815093467 49111816093446]\n",
      "received for channel:  2\n",
      "WR_Time:  1488639.0\n",
      "timetags number:  999988\n",
      "data is: [1.56580643e+04 1.01556231e+06 2.01551555e+06 ... 9.99997670e+11\n",
      " 9.99998670e+11 9.99999670e+11]\n",
      "received for channel:  2\n",
      "WR_Time:  1488640.0\n",
      "timetags number:  999987\n",
      "data is: [6.70512930e+05 1.67054517e+06 2.67054441e+06 ... 9.99997327e+11\n",
      " 9.99998327e+11 9.99999327e+11]\n",
      "received for channel:  2\n",
      "WR_Time:  1488641.0\n",
      "timetags number:  999988\n",
      "data is: [3.26992459e+05 1.32698470e+06 2.32702494e+06 ... 9.99997992e+11\n",
      " 9.99998992e+11 9.99999992e+11]\n",
      "received for channel:  2\n",
      "WR_Time:  1488642.0\n",
      "timetags number:  999987\n",
      "data is: [9.92868667e+05 1.99277891e+06 2.99280415e+06 ... 9.99997658e+11\n",
      " 9.99998658e+11 9.99999658e+11]\n",
      "received for channel:  2\n",
      "WR_Time:  1488643.0\n",
      "timetags number:  999987\n",
      "data is: [6.58229665e+05 1.65819891e+06 2.65827714e+06 ... 9.99997320e+11\n",
      " 9.99998320e+11 9.99999320e+11]\n",
      "received for channel:  2\n",
      "WR_Time:  1488644.0\n",
      "timetags number:  999988\n",
      "data is: [3.20042875e+05 1.32010711e+06 2.32011635e+06 ... 9.99997970e+11\n",
      " 9.99998971e+11 9.99999971e+11]\n",
      "received for channel:  2\n",
      "WR_Time:  1488645.0\n",
      "timetags number:  999987\n",
      "data is: [9.70998975e+05 1.97106921e+06 2.97120245e+06 ... 9.99997636e+11\n",
      " 9.99998636e+11 9.99999636e+11]\n",
      "received for channel:  2\n",
      "WR_Time:  1488646.0\n",
      "timetags number:  999987\n",
      "data is: [6.36195982e+05 1.63622422e+06 2.63618847e+06 ... 9.99997302e+11\n",
      " 9.99998302e+11 9.99999302e+11]\n",
      "received for channel:  2\n",
      "WR_Time:  1488647.0\n",
      "timetags number:  999988\n",
      "data is: [3.01829963e+05 1.30189320e+06 2.30207543e+06 ... 9.99997959e+11\n",
      " 9.99998959e+11 9.99999959e+11]\n",
      "received for channel:  2\n",
      "WR_Time:  1488648.0\n",
      "timetags number:  999987\n",
      "data is: [9.59748648e+05 1.95975389e+06 2.95989612e+06 ... 9.99997621e+11\n",
      " 9.99998621e+11 9.99999621e+11]\n",
      "received for channel:  2\n",
      "WR_Time:  1488649.0\n",
      "timetags number:  999987\n",
      "data is: [6.21150882e+05 1.62131611e+06 2.62122436e+06 ... 9.99997285e+11\n",
      " 9.99998285e+11 9.99999285e+11]\n"
     ]
    }
   ],
   "source": [
    "# Step 3: Instantiate a specification of a measurement from the capability\n",
    "measurement = mpClient.create_measurement(capability)\n",
    "print(f\"Created Measurement: {measurement.specification_message}\")\n",
    "\n",
    "# Step 4: Configure the measurement with parameters\n",
    "channels =  '2'\n",
    "schedule = \"now ||stream\"\n",
    "parameters = {\n",
    "    \"channels\": channels\n",
    "}\n",
    "measurement.configure(\n",
    "    schedule=schedule,\n",
    "    parameters=parameters,\n",
    "    result_callback=on_result_callback,  # Callback function for new results\n",
    ")\n",
    "print(f\"Configured Measurement Specification: {measurement.specification_message}\")\n",
    "\n",
    "# Step 5: Send the Measurement\n",
    "mpClient.send_measurement(measurement)"
   ]
  },
  {
   "cell_type": "code",
   "execution_count": 16,
   "metadata": {},
   "outputs": [
    {
     "name": "stdout",
     "output_type": "stream",
     "text": [
      "will close the receiver\n",
      "Measurement Interrupted\n"
     ]
    }
   ],
   "source": [
    "# Step 6: Interrupt the measurement\n",
    "mpClient.interrupt_measurement(measurement)\n",
    "print(f\"Measurement Interrupted\")"
   ]
  },
  {
   "cell_type": "code",
   "execution_count": null,
   "metadata": {},
   "outputs": [],
   "source": [
    "data_store\n",
    "import pickle\n",
    "with open('data_store.pkl', 'wb') as file:\n",
    "    pickle.dump(data_store, file)\n"
   ]
  },
  {
   "cell_type": "code",
   "execution_count": null,
   "metadata": {},
   "outputs": [],
   "source": [
    "import pickle\n",
    "# Load the data\n",
    "with open('data_store.pkl', 'rb') as file:\n",
    "    retreived_data = pickle.load(file)"
   ]
  },
  {
   "cell_type": "code",
   "execution_count": null,
   "metadata": {},
   "outputs": [],
   "source": [
    "retreived_data\n",
    "len(retreived_data[2])"
   ]
  },
  {
   "cell_type": "code",
   "execution_count": null,
   "metadata": {},
   "outputs": [],
   "source": [
    "retreived_data[2]\n"
   ]
  },
  {
   "cell_type": "code",
   "execution_count": null,
   "metadata": {},
   "outputs": [],
   "source": [
    "def plot_counts(retreived_data):\n",
    "    plt.figure()\n",
    "    plt.xlabel(\"Absolute Time (1PPS)\")\n",
    "    plt.ylabel(\"Count of Events\")\n",
    "    plt.title(\"Counts for Each Channel\")\n",
    "    plt.ylim(0, 3.1e6)\n",
    "    # Iterate through each channel and add a bar plot for its counts\n",
    "    for channel, time_data in data_store.items():\n",
    "        counts = []\n",
    "        abs_times = sorted(time_data.keys())\n",
    "        # Calculate counts for each absolute time\n",
    "        for abs_time in abs_times:\n",
    "            counts.append(len(time_data[abs_time]))\n",
    "        # Plot counts for the channel on the same figure with a label\n",
    "        plt.plot(abs_times, counts, marker='o', linestyle='-',label=f\"Channel {channel}\")\n",
    "    \n",
    "    # Show legend to differentiate channels\n",
    "    plt.legend()\n",
    "    plt.show()\n",
    "\n",
    "plot_counts(retreived_data)\n"
   ]
  },
  {
   "cell_type": "code",
   "execution_count": null,
   "metadata": {},
   "outputs": [],
   "source": []
  }
 ],
 "metadata": {
  "kernelspec": {
   "display_name": "measurement_plane",
   "language": "python",
   "name": "python3"
  },
  "language_info": {
   "codemirror_mode": {
    "name": "ipython",
    "version": 3
   },
   "file_extension": ".py",
   "mimetype": "text/x-python",
   "name": "python",
   "nbconvert_exporter": "python",
   "pygments_lexer": "ipython3",
   "version": "3.11.9"
  }
 },
 "nbformat": 4,
 "nbformat_minor": 2
}

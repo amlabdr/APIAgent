{
 "cells": [
  {
   "cell_type": "code",
   "execution_count": 1,
   "metadata": {},
   "outputs": [],
   "source": [
    "import time\n",
    "from multiverse import MeasurementPlaneClient\n",
    "\n",
    "def on_result_callback(result):\n",
    "    print(f\"New Result Received: {result}\")\n",
    "\n",
    "def on_completion_callback(status):\n",
    "    print(f\"Measurement Completed with Status: {status}\")\n",
    "\n",
    "BROKER_URL = \"http://129.6.254.164:5672/\"\n",
    "# Step 1: Get the capabilities published by agents\n",
    "mpClient = MeasurementPlaneClient(BROKER_URL)"
   ]
  },
  {
   "cell_type": "markdown",
   "metadata": {},
   "source": [
    "Give it some time to start loading the available capabilities"
   ]
  },
  {
   "cell_type": "code",
   "execution_count": 3,
   "metadata": {},
   "outputs": [
    {
     "name": "stdout",
     "output_type": "stream",
     "text": [
      "Available Capabilities: {'f7fd9c11ab291bc861450dda33a253b4dfa9e8a7078ead309ea584839573f746': {'label': 'Timetags measurement', 'endpoint': '/multiverse/qnet/tt/Alice', 'schedule': 'now', 'capabilityName': 'TimetagsMeasurementAlice', 'parameters': {'type': 'object', 'properties': {'channels': {'description': 'Channels numbers to measure', 'type': 'array', 'items': {'type': 'number'}}}, 'required': ['channels']}, 'resultSchema': {'type': 'object', 'patternProperties': {'^[0-9]+$': {'type': 'object', 'properties': {'WR_time': {'type': 'array', 'items': {'type': 'string'}}}, 'required': ['WR_time']}}, 'additionalProperties': False}, 'timestamp': '2024-06-25 18:33:23.63', 'nonce': 'string', 'metadata': 'object', 'capability': 'measure'}}\n"
     ]
    }
   ],
   "source": [
    "capabilities = mpClient.get_capabilities(capability_type=\"measure\")\n",
    "print(\"Available Capabilities:\", capabilities)"
   ]
  },
  {
   "cell_type": "code",
   "execution_count": 5,
   "metadata": {},
   "outputs": [
    {
     "name": "stdout",
     "output_type": "stream",
     "text": [
      "Selected Capability: {'label': 'Timetags measurement', 'endpoint': '/multiverse/qnet/tt/Alice', 'schedule': 'now', 'capabilityName': 'TimetagsMeasurementAlice', 'parameters': {'type': 'object', 'properties': {'channels': {'description': 'Channels numbers to measure', 'type': 'array', 'items': {'type': 'number'}}}, 'required': ['channels']}, 'resultSchema': {'type': 'object', 'patternProperties': {'^[0-9]+$': {'type': 'object', 'properties': {'WR_time': {'type': 'array', 'items': {'type': 'string'}}}, 'required': ['WR_time']}}, 'additionalProperties': False}, 'timestamp': '2024-06-25 18:33:23.63', 'nonce': 'string', 'metadata': 'object', 'capability': 'measure'}\n"
     ]
    }
   ],
   "source": [
    "# Step 2: Pick up one capability (by endpoint and name)\n",
    "endpoint = \"/multiverse/qnet/tt/Alice\"  # Replace with an actual agent endpoint\n",
    "capability_name = \"TimetagsMeasurementAlice\"  # Replace with an actual capability name\n",
    "\n",
    "capability_id = mpClient.calculate_capability_id({\"endpoint\":endpoint, \"capabilityName\": capability_name})\n",
    "if capability_id in capabilities:\n",
    "    capability = capabilities[capability_id]\n",
    "    print(f\"Selected Capability: {capability}\")\n",
    "else:\n",
    "    capability = None\n",
    "\n",
    "if not capability:\n",
    "    print(f\"Capability not found.\")\n"
   ]
  },
  {
   "cell_type": "code",
   "execution_count": 6,
   "metadata": {},
   "outputs": [
    {
     "name": "stdout",
     "output_type": "stream",
     "text": [
      "Created Measurement: {'label': 'Timetags measurement', 'endpoint': '/multiverse/qnet/tt/Alice', 'schedule': 'now', 'capabilityName': 'TimetagsMeasurementAlice', 'parameters': {'type': 'object', 'properties': {'channels': {'description': 'Channels numbers to measure', 'type': 'array', 'items': {'type': 'number'}}}, 'required': ['channels']}, 'resultSchema': {'type': 'object', 'patternProperties': {'^[0-9]+$': {'type': 'object', 'properties': {'WR_time': {'type': 'array', 'items': {'type': 'string'}}}, 'required': ['WR_time']}}, 'additionalProperties': False}, 'timestamp': '2024-06-25 18:33:23.63', 'nonce': 'string', 'metadata': 'object', 'specification': 'measure'}\n",
      "Configured Measurement Specification: {'label': 'Timetags measurement', 'endpoint': '/multiverse/qnet/tt/Alice', 'schedule': 'now', 'capabilityName': 'TimetagsMeasurementAlice', 'parameters': {'channels': [1, 2]}, 'resultSchema': {'type': 'object', 'patternProperties': {'^[0-9]+$': {'type': 'object', 'properties': {'WR_time': {'type': 'array', 'items': {'type': 'string'}}}, 'required': ['WR_time']}}, 'additionalProperties': False}, 'timestamp': '2024-06-25 18:37:22.34', 'nonce': 'string', 'metadata': 'object', 'specification': 'measure'}\n",
      "New Result Received: ['1719355045.5063288']\n",
      "New Result Received: ['1719355047.3239605']\n",
      "New Result Received: ['1719355049.1313484']\n",
      "New Result Received: ['1719355050.9431252']\n",
      "Measurement Interrupted\n",
      "Measurement Results:  [['1719355045.5063288'], ['1719355047.3239605'], ['1719355049.1313484'], ['1719355050.9431252']]\n"
     ]
    },
    {
     "name": "stdout",
     "output_type": "stream",
     "text": [
      "New Result Received: ['1719355052.7794628']\n"
     ]
    }
   ],
   "source": [
    "# Step 3: Instantiate a specification of a measurement from the capability\n",
    "measurement = mpClient.create_measurement(capability)\n",
    "print(f\"Created Measurement: {measurement.specification_message}\")\n",
    "\n",
    "# Step 4: Configure the measurement with parameters\n",
    "schedule = \"now\"  # Replace with your schedule: `now / period`, `start ... stop / period`, etc.\n",
    "parameters = {\n",
    "    \"channels\": [1,2]\n",
    "    # Add more parameters based on the capability.parameters JSON schema\n",
    "}\n",
    "measurement.configure(\n",
    "    schedule=schedule,\n",
    "    parameters=parameters,\n",
    "    stream_results=True,  # Stream results\n",
    "    redirect_to_storage=True,  # Redirect to storage\n",
    "    result_callback=on_result_callback,  # Callback function for new results\n",
    "    completion_callback=on_completion_callback  # Callback function for measurement completion\n",
    ")\n",
    "print(f\"Configured Measurement Specification: {measurement.specification_message}\")\n",
    "\n",
    "# Step 5: Send the Measurement\n",
    "mpClient.send_measurement(measurement)\n",
    "\n",
    "# Simulate some wait time for the measurement to finish\n",
    "time.sleep(5)  # Wait for 5 seconds (replace with appropriate wait time)\n",
    "\n",
    "# Step 6: Interrupt the measurement\n",
    "mpClient.interrupt_measurement(measurement)\n",
    "print(f\"Measurement Interrupted\")\n",
    "print(f\"Measurement Results: \", measurement.results)\n"
   ]
  }
 ],
 "metadata": {
  "kernelspec": {
   "display_name": "storage_service",
   "language": "python",
   "name": "python3"
  },
  "language_info": {
   "codemirror_mode": {
    "name": "ipython",
    "version": 3
   },
   "file_extension": ".py",
   "mimetype": "text/x-python",
   "name": "python",
   "nbconvert_exporter": "python",
   "pygments_lexer": "ipython3",
   "version": "3.12.3"
  }
 },
 "nbformat": 4,
 "nbformat_minor": 2
}

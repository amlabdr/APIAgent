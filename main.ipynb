{
 "cells": [
  {
   "cell_type": "code",
   "execution_count": 1,
   "metadata": {},
   "outputs": [],
   "source": [
    "import time\n",
    "from multiverse import MeasurementPlaneClient\n",
    "\n",
    "def on_result_callback(result):\n",
    "    print(f\"New Result Received: {result}\")\n",
    "\n",
    "def on_completion_callback(status):\n",
    "    print(f\"Measurement Completed wit   h Status: {status}\")\n",
    "\n",
    "BROKER_URL = \"http://localhost:5672/\"\n",
    "# Step 1: Get the capabilities published by agents\n",
    "mpClient = MeasurementPlaneClient(BROKER_URL)"
   ]
  },
  {
   "cell_type": "markdown",
   "metadata": {},
   "source": [
    "Give it some time to start loading the available capabilities"
   ]
  },
  {
   "cell_type": "code",
   "execution_count": 8,
   "metadata": {},
   "outputs": [
    {
     "name": "stdout",
     "output_type": "stream",
     "text": [
      "Available Capabilities: {0: {'label': 'region time Capability', 'endpoint': '/region_time_endpoint', 'capabilityName': 'region_time_capability', 'parameters_schema': {'type': 'object', 'properties': {'region': {'type': 'string', 'description': 'The region of requested time'}}}, 'resultSchema': {'type': 'object', 'properties': {'region': {'type': 'string', 'description': 'The region of requested time'}, 'local time': {'type': 'string', 'description': 'The local time'}}}, 'timestamp': '2024-10-16 17:01:49.27', 'nonce': '12345', 'metadata': None, 'capability': 'measure'}}\n"
     ]
    }
   ],
   "source": [
    "capabilities = mpClient.get_capabilities(capability_type=\"measure\")\n",
    "print(\"Available Capabilities:\", capabilities)"
   ]
  },
  {
   "cell_type": "code",
   "execution_count": 13,
   "metadata": {},
   "outputs": [
    {
     "name": "stdout",
     "output_type": "stream",
     "text": [
      "Created Measurement: {'label': 'region time Capability', 'endpoint': '/region_time_endpoint', 'capabilityName': 'region_time_capability', 'parameters_schema': {'type': 'object', 'properties': {'region': {'type': 'string', 'description': 'The region of requested time'}}}, 'resultSchema': {'type': 'object', 'properties': {'region': {'type': 'string', 'description': 'The region of requested time'}, 'local time': {'type': 'string', 'description': 'The local time'}}}, 'timestamp': '2024-10-16 17:01:49.27', 'nonce': '12345', 'metadata': None, 'specification': 'measure'}\n",
      "Configured Measurement Specification: {'label': 'region time Capability', 'endpoint': '/region_time_endpoint', 'capabilityName': 'region_time_capability', 'parameters_schema': {'type': 'object', 'properties': {'region': {'type': 'string', 'description': 'The region of requested time'}}}, 'resultSchema': {'type': 'object', 'properties': {'region': {'type': 'string', 'description': 'The region of requested time'}, 'local time': {'type': 'string', 'description': 'The local time'}}}, 'timestamp': '2024-10-16 17:12:59.11', 'nonce': '12345', 'metadata': None, 'specification': 'measure', 'parameters': {'region': 'Europe/London'}, 'schedule': 'now | 2024-11-15 22:50:00 |stream'}\n",
      "New Result Received: [{'region': 'Europe/London', 'local time': '2024-10-16 22:12:59 BST+0100'}]\n",
      "New Result Received: [{'region': 'Europe/London', 'local time': '2024-10-16 22:12:59 BST+0100'}]\n",
      "New Result Received: [{'region': 'Europe/London', 'local time': '2024-10-16 22:13:00 BST+0100'}]\n",
      "New Result Received: [{'region': 'Europe/London', 'local time': '2024-10-16 22:13:00 BST+0100'}]\n"
     ]
    },
    {
     "name": "stdout",
     "output_type": "stream",
     "text": [
      "New Result Received: [{'region': 'Europe/London', 'local time': '2024-10-16 22:13:01 BST+0100'}]\n",
      "New Result Received: [{'region': 'Europe/London', 'local time': '2024-10-16 22:13:01 BST+0100'}]\n",
      "New Result Received: [{'region': 'Europe/London', 'local time': '2024-10-16 22:13:02 BST+0100'}]\n",
      "New Result Received: [{'region': 'Europe/London', 'local time': '2024-10-16 22:13:02 BST+0100'}]\n",
      "New Result Received: [{'region': 'Europe/London', 'local time': '2024-10-16 22:13:03 BST+0100'}]\n",
      "New Result Received: [{'region': 'Europe/London', 'local time': '2024-10-16 22:13:03 BST+0100'}]\n"
     ]
    }
   ],
   "source": [
    "capability_id = 0\n",
    "capability = capabilities[capability_id]\n",
    "# Step 3: Instantiate a specification of a measurement from the capability\n",
    "measurement = mpClient.create_measurement(capability)\n",
    "print(f\"Created Measurement: {measurement.specification_message}\")\n",
    "\n",
    "# Step 4: Configure the measurement with parameters\n",
    "schedule = \"now | 2024-11-15 22:50:00 |stream\"  # Replace with your schedule: `now / period`, `start ... stop / period`, etc.\n",
    "parameters = {\n",
    "    \"region\": 'Europe/London'\n",
    "    # Add more parameters based on the capability.parameters_schema JSON schema\n",
    "}\n",
    "measurement.configure(\n",
    "    schedule=schedule,\n",
    "    parameters=parameters,\n",
    "    stream_results=False,  # Stream results\n",
    "    redirect_to_storage=True,  # Redirect to storage\n",
    "    result_callback=on_result_callback,  # Callback function for new results\n",
    "    completion_callback=on_completion_callback  # Callback function for measurement completion\n",
    ")\n",
    "print(f\"Configured Measurement Specification: {measurement.specification_message}\")\n",
    "\n",
    "# Step 5: Send the Measurement\n",
    "mpClient.send_measurement(measurement)\n",
    "\n",
    "\n"
   ]
  },
  {
   "cell_type": "code",
   "execution_count": 14,
   "metadata": {},
   "outputs": [
    {
     "name": "stdout",
     "output_type": "stream",
     "text": [
      "Measurement Interrupted\n"
     ]
    }
   ],
   "source": [
    "\n",
    "# Step 6: Interrupt the measurement\n",
    "mpClient.interrupt_measurement(measurement)\n",
    "print(f\"Measurement Interrupted\")"
   ]
  }
 ],
 "metadata": {
  "kernelspec": {
   "display_name": "storage_service",
   "language": "python",
   "name": "python3"
  },
  "language_info": {
   "codemirror_mode": {
    "name": "ipython",
    "version": 3
   },
   "file_extension": ".py",
   "mimetype": "text/x-python",
   "name": "python",
   "nbconvert_exporter": "python",
   "pygments_lexer": "ipython3",
   "version": "3.12.4"
  }
 },
 "nbformat": 4,
 "nbformat_minor": 2
}

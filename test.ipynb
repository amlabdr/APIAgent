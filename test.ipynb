{
 "cells": [
  {
   "cell_type": "code",
   "execution_count": 3,
   "metadata": {},
   "outputs": [
    {
     "name": "stdout",
     "output_type": "stream",
     "text": [
      "Connecting to amqp://localhost:5672...\n",
      "Listening for messages on topic: topic:///skopa\n",
      "Received message: Test message\n",
      "Closing connection...\n"
     ]
    }
   ],
   "source": [
    "from proton import Message\n",
    "from proton.handlers import MessagingHandler\n",
    "from proton.reactor import Container\n",
    "\n",
    "class PersistentReceiver(MessagingHandler):\n",
    "    def __init__(self, broker_url, topic):\n",
    "        super().__init__()\n",
    "        self.broker_url = broker_url\n",
    "        self.topic = topic\n",
    "\n",
    "    def on_start(self, event):\n",
    "        # Establish connection and create receiver\n",
    "        print(f\"Connecting to {self.broker_url}...\")\n",
    "        self.connection = event.container.connect(self.broker_url)\n",
    "        event.container.create_receiver(self.connection, self.topic)\n",
    "        print(f\"Listening for messages on topic: {self.topic}\")\n",
    "\n",
    "    def on_message(self, event):\n",
    "        # Print the received message\n",
    "        print(f\"Received message: {event.message.body}\")\n",
    "        # Close the connection after receiving the first message\n",
    "        print(\"Closing connection...\")\n",
    "        event.connection.close()\n",
    "\n",
    "    def on_transport_error(self, event):\n",
    "        print(f\"Transport error: {event.transport.condition.description}\")\n",
    "        event.connection.close()\n",
    "\n",
    "# Create and run the receiver container\n",
    "if __name__ == \"__main__\":\n",
    "    broker_url = \"amqp://localhost:5672\"  # Update with your broker's address if needed\n",
    "    topic = \"topic:///skopa\"\n",
    "    Container(PersistentReceiver(broker_url, topic)).run()\n"
   ]
  },
  {
   "cell_type": "code",
   "execution_count": 13,
   "metadata": {},
   "outputs": [
    {
     "name": "stdout",
     "output_type": "stream",
     "text": [
      "Starting receiver thread...\n",
      "Connecting to amqp://localhost:5672...\n",
      "Listening for messages on topic: topic:///skopa\n"
     ]
    },
    {
     "name": "stdout",
     "output_type": "stream",
     "text": [
      "Received message: Test message\n"
     ]
    }
   ],
   "source": [
    "import threading\n",
    "from proton import Message\n",
    "from proton.handlers import MessagingHandler\n",
    "from proton.reactor import Container\n",
    "\n",
    "class PersistentReceiver(MessagingHandler):\n",
    "    def __init__(self, broker_url, topic):\n",
    "        super().__init__()\n",
    "        self.broker_url = broker_url\n",
    "        self.topic = topic\n",
    "        self.stop_requested = False\n",
    "\n",
    "    def on_start(self, event):\n",
    "        print(f\"Connecting to {self.broker_url}...\")\n",
    "        self.connection = event.container.connect(self.broker_url)\n",
    "        event.container.create_receiver(self.connection, self.topic)\n",
    "        print(f\"Listening for messages on topic: {self.topic}\")\n",
    "\n",
    "    def on_message(self, event):\n",
    "        print(f\"Received message: {event.message.body}\")\n",
    "        if self.stop_requested:\n",
    "            print(\"Stop requested. Closing connection...\")\n",
    "            event.connection.close()\n",
    "\n",
    "    def on_transport_error(self, event):\n",
    "        print(f\"Transport error: {event.transport.condition.description}\")\n",
    "        event.connection.close()\n",
    "\n",
    "    def stop(self):\n",
    "        self.connection.close()\n",
    "\n",
    "\n",
    "# Wrapper to run the receiver in a thread\n",
    "class ReceiverThread:\n",
    "    def __init__(self, broker_url, topic):\n",
    "        self.receiver = PersistentReceiver(broker_url, topic)\n",
    "        self.container = Container(self.receiver)\n",
    "        self.thread = threading.Thread(target=self.container.run)\n",
    "        self.thread.daemon = True  # Ensure thread doesn't prevent program exit\n",
    "\n",
    "    def start(self):\n",
    "        print(\"Starting receiver thread...\")\n",
    "        self.thread.start()\n",
    "\n",
    "    def stop(self):\n",
    "        print(\"Stopping receiver thread...\")\n",
    "        self.receiver.stop()\n",
    "        #self.container.stop()  # Stops the container and closes connections\n",
    "        self.thread.join()  # Wait for the thread to finish\n",
    "\n",
    "\n",
    "# Example usage\n",
    "if __name__ == \"__main__\":\n",
    "    broker_url = \"amqp://localhost:5672\"\n",
    "    topic = \"topic:///skopa\"\n",
    "\n",
    "    # Create and start the receiver in a thread\n",
    "    receiver_thread = ReceiverThread(broker_url, topic)\n",
    "    receiver_thread.start()\n",
    "\n",
    "    \n",
    "\n",
    "    \n"
   ]
  },
  {
   "cell_type": "code",
   "execution_count": 14,
   "metadata": {},
   "outputs": [
    {
     "name": "stdout",
     "output_type": "stream",
     "text": [
      "Stopping receiver thread...\n",
      "Receiver has been stopped.\n"
     ]
    }
   ],
   "source": [
    "# Stop the receiver from outside\n",
    "receiver_thread.stop()\n",
    "print(\"Receiver has been stopped.\")"
   ]
  },
  {
   "cell_type": "code",
   "execution_count": 1,
   "metadata": {},
   "outputs": [
    {
     "name": "stdout",
     "output_type": "stream",
     "text": [
      "Starting receiver thread...\n",
      "Connecting to amqp://localhost:5672...\n",
      "Listening for messages on topic: topic:///skopa\n"
     ]
    },
    {
     "name": "stdout",
     "output_type": "stream",
     "text": [
      "Received message: Test message\n"
     ]
    }
   ],
   "source": [
    "from measurement_plane.protocols.amqp.receive import ReceiverThread\n",
    "\n",
    "broker_url = \"amqp://localhost:5672\"\n",
    "topic = \"topic:///skopa\"\n",
    "\n",
    "# Create and start the receiver in a thread\n",
    "receiver_thread = ReceiverThread(broker_url, topic)\n",
    "receiver_thread.start()"
   ]
  },
  {
   "cell_type": "code",
   "execution_count": 2,
   "metadata": {},
   "outputs": [
    {
     "name": "stdout",
     "output_type": "stream",
     "text": [
      "Stopping receiver thread...\n"
     ]
    }
   ],
   "source": [
    "receiver_thread.stop()"
   ]
  }
 ],
 "metadata": {
  "kernelspec": {
   "display_name": "measurement_plane",
   "language": "python",
   "name": "python3"
  },
  "language_info": {
   "codemirror_mode": {
    "name": "ipython",
    "version": 3
   },
   "file_extension": ".py",
   "mimetype": "text/x-python",
   "name": "python",
   "nbconvert_exporter": "python",
   "pygments_lexer": "ipython3",
   "version": "3.11.9"
  }
 },
 "nbformat": 4,
 "nbformat_minor": 2
}

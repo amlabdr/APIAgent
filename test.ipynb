{
 "cells": [
  {
   "cell_type": "code",
   "execution_count": 7,
   "metadata": {},
   "outputs": [
    {
     "data": {
      "text/html": [
       "\n",
       "        <iframe\n",
       "            width=\"100%\"\n",
       "            height=\"650\"\n",
       "            src=\"http://127.0.0.1:8050/\"\n",
       "            frameborder=\"0\"\n",
       "            allowfullscreen\n",
       "            \n",
       "        ></iframe>\n",
       "        "
      ],
      "text/plain": [
       "<IPython.lib.display.IFrame at 0x231cd4ed9d0>"
      ]
     },
     "metadata": {},
     "output_type": "display_data"
    }
   ],
   "source": [
    "import dash\n",
    "from dash import dcc, html\n",
    "from dash.dependencies import Input, Output\n",
    "import plotly.graph_objs as go\n",
    "import time\n",
    "from threading import Thread\n",
    "import random\n",
    "\n",
    "class DashPlotting:\n",
    "    def __init__(self, channels):\n",
    "        self.channels = channels\n",
    "        self.channel_data = {channel: [] for channel in channels}\n",
    "        self.timestamps = []\n",
    "\n",
    "        # Initialize Dash app\n",
    "        self.app = dash.Dash(__name__)\n",
    "\n",
    "        # Define the layout\n",
    "        self.app.layout = html.Div([\n",
    "            dcc.Graph(id='live-graph'),\n",
    "            dcc.Interval(\n",
    "                id='graph-update',\n",
    "                interval=1000,  # Update every second\n",
    "                n_intervals=0\n",
    "            )\n",
    "        ])\n",
    "\n",
    "        # Set up the callback to update the graph\n",
    "        @self.app.callback(\n",
    "            Output('live-graph', 'figure'),\n",
    "            [Input('graph-update', 'n_intervals')]\n",
    "        )\n",
    "        def update_graph_live(n):\n",
    "            fig = go.Figure()\n",
    "\n",
    "            # Update the traces for each channel\n",
    "            for channel in self.channels:\n",
    "                fig.add_trace(go.Scatter(x=self.timestamps, y=self.channel_data[channel], mode='lines', name=f'Channel {channel}'))\n",
    "\n",
    "            fig.update_layout(\n",
    "                title=\"Real-Time Plotting\",\n",
    "                xaxis_title=\"Time\",\n",
    "                yaxis_title=\"Rate\"\n",
    "            )\n",
    "\n",
    "            return fig\n",
    "\n",
    "    def start_server(self):\n",
    "        # Start the Dash app server\n",
    "        self.app.run_server(debug=True, use_reloader=False)  # Turn off reloader to avoid double execution\n",
    "\n",
    "    def on_result_callback(self, result):\n",
    "        print(f\"New Result Received: {result}\")\n",
    "        \n",
    "        if result:\n",
    "            result = result[0]  # Assuming result is a list of dicts\n",
    "\n",
    "            # Append new rates for each channel\n",
    "            for channel in self.channels:\n",
    "                self.channel_data[channel].append(result.get(channel, random.uniform(1, 10)))  # Append random value for example\n",
    "            \n",
    "            # Append the current timestamp\n",
    "            self.timestamps.append(time.time())\n",
    "\n",
    "# Example of usage\n",
    "channels = ['1', '2', '3']\n",
    "plotter = DashPlotting(channels)\n",
    "\n",
    "# Start the Dash server in the main thread\n",
    "plotter.start_server()\n",
    "\n",
    "\n",
    "\n"
   ]
  },
  {
   "cell_type": "code",
   "execution_count": 8,
   "metadata": {},
   "outputs": [
    {
     "name": "stdout",
     "output_type": "stream",
     "text": [
      "New Result Received: [{'1': 5.945949841243775, '2': 8.283441815827949, '3': 9.78690238430472}]\n"
     ]
    },
    {
     "name": "stdout",
     "output_type": "stream",
     "text": [
      "New Result Received: [{'1': 3.334475497461291, '2': 9.117721050510982, '3': 4.3305752181334025}]\n",
      "New Result Received: [{'1': 8.630999036122667, '2': 6.18707575231399, '3': 9.254899625741716}]\n",
      "New Result Received: [{'1': 3.861610713625097, '2': 9.855795939884892, '3': 3.193884420766528}]\n",
      "New Result Received: [{'1': 8.900719856582185, '2': 1.1914267670834775, '3': 5.521295824564819}]\n",
      "New Result Received: [{'1': 1.7756712381582915, '2': 7.470670014324366, '3': 2.518127149864152}]\n",
      "New Result Received: [{'1': 1.4415795376488267, '2': 9.428867504920042, '3': 2.3418126441069926}]\n",
      "New Result Received: [{'1': 2.9648564039892236, '2': 7.991860617420755, '3': 3.243739361700083}]\n",
      "New Result Received: [{'1': 8.224355232011117, '2': 1.5457647613601395, '3': 9.690007864415817}]\n",
      "New Result Received: [{'1': 1.6829383792689594, '2': 8.79074496830896, '3': 3.150926294765844}]\n",
      "New Result Received: [{'1': 8.434527419422107, '2': 9.695062255025888, '3': 8.138544116445356}]\n",
      "New Result Received: [{'1': 4.130811818403844, '2': 8.737033526363037, '3': 2.990440439189738}]\n",
      "New Result Received: [{'1': 8.49336166396121, '2': 3.920675169586525, '3': 9.41795901990754}]\n",
      "New Result Received: [{'1': 1.9319843703676662, '2': 8.12634793886342, '3': 1.782089703525156}]\n",
      "New Result Received: [{'1': 6.485517673329311, '2': 5.962548102683418, '3': 7.346179684438377}]\n",
      "New Result Received: [{'1': 4.228815288244755, '2': 1.5588264529773874, '3': 5.740596229401745}]\n",
      "New Result Received: [{'1': 8.005014058296506, '2': 6.1789874951632635, '3': 7.508607372526363}]\n",
      "New Result Received: [{'1': 3.9005338426448617, '2': 3.3731896029651915, '3': 8.459543084918979}]\n",
      "New Result Received: [{'1': 6.949128450572465, '2': 7.358848934628119, '3': 4.55981150340175}]\n",
      "New Result Received: [{'1': 6.6395680507240815, '2': 4.147566878345473, '3': 3.9964111052120677}]\n"
     ]
    }
   ],
   "source": [
    "# Simulate result callback with dummy data\n",
    "def simulate_data():\n",
    "    for _ in range(20):  # Simulate 20 result callbacks\n",
    "        result = [{'1': random.uniform(1, 10), '2': random.uniform(1, 10), '3': random.uniform(1, 10)}]\n",
    "        plotter.on_result_callback(result)\n",
    "        time.sleep(1)\n",
    "\n",
    "# Run data simulation in a separate thread\n",
    "data_thread = Thread(target=simulate_data)\n",
    "data_thread.start()\n"
   ]
  }
 ],
 "metadata": {
  "kernelspec": {
   "display_name": "measurement_plane",
   "language": "python",
   "name": "python3"
  },
  "language_info": {
   "codemirror_mode": {
    "name": "ipython",
    "version": 3
   },
   "file_extension": ".py",
   "mimetype": "text/x-python",
   "name": "python",
   "nbconvert_exporter": "python",
   "pygments_lexer": "ipython3",
   "version": "3.11.9"
  }
 },
 "nbformat": 4,
 "nbformat_minor": 2
}
